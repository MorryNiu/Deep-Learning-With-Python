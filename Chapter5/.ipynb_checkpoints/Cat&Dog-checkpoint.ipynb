{
 "cells": [
  {
   "cell_type": "code",
   "execution_count": 39,
   "metadata": {},
   "outputs": [],
   "source": [
    "import os\n",
    "import subprocess\n",
    "from keras import layers, models, optimizers\n",
    "import matplotlib.pyplot as plt\n",
    "\n",
    "from keras.preprocessing.image import ImageDataGenerator"
   ]
  },
  {
   "cell_type": "code",
   "execution_count": 11,
   "metadata": {},
   "outputs": [
    {
     "name": "stdout",
     "output_type": "stream",
     "text": [
      "Cat&Dog.ipynb\n",
      "MNIST (convolution NN).ipynb\n",
      "cats_and_dogs_filtered\n"
     ]
    }
   ],
   "source": [
    "res = subprocess.check_output([\"ls\"])\n",
    "for line in res.splitlines():\n",
    "    print(line.decode('UTF-8'))"
   ]
  },
  {
   "cell_type": "code",
   "execution_count": 15,
   "metadata": {},
   "outputs": [],
   "source": [
    "# 需要翻墙, if u need to download the dataset from google, make it true\n",
    "if(False):\n",
    "    command = \"wget --no-check-certificate \\\n",
    "        https://storage.googleapis.com/mledu-datasets/cats_and_dogs_filtered.zip \\\n",
    "        -O /tmp/cats_and_dogs_filtered.zip\"\n",
    "\n",
    "    # please modify the line if you want to run this in windows, also, you need to have a wsl.\n",
    "    res = subprocess.check_output([\"bash\", \"-c\", command])\n",
    "\n",
    "    for line in res.splitlines():\n",
    "        print(line)"
   ]
  },
  {
   "cell_type": "code",
   "execution_count": 24,
   "metadata": {},
   "outputs": [
    {
     "name": "stdout",
     "output_type": "stream",
     "text": [
      "cats\n",
      "dogs\n"
     ]
    }
   ],
   "source": [
    "res = subprocess.check_output([\"ls\", \"cats_and_dogs_filtered/validation\"])\n",
    "\n",
    "for line in res.splitlines():\n",
    "    print(line.decode('UTF-8'))"
   ]
  },
  {
   "cell_type": "code",
   "execution_count": 30,
   "metadata": {},
   "outputs": [
    {
     "name": "stdout",
     "output_type": "stream",
     "text": [
      "train cat: 1000\n",
      "train dog: 1000\n",
      "val cat: 500\n",
      "val dog: 500\n"
     ]
    }
   ],
   "source": [
    "root = \"/Users/xinyao.niu/Desktop/Deep-Learning-With-Python/Chapter5/cats_and_dogs_filtered\"\n",
    "cats_train = root + \"/train/cats\"\n",
    "print(\"train cat: \" + str(len(os.listdir(cats_train))))\n",
    "dogs_train = root + \"/train/dogs\"\n",
    "print(\"train dog: \" + str(len(os.listdir(dogs_train))))\n",
    "cats_val = root + \"/validation/cats\"\n",
    "print(\"val cat: \" + str(len(os.listdir(cats_val))))\n",
    "dogs_val = root + \"/validation/dogs\"\n",
    "print(\"val dog: \" + str(len(os.listdir(dogs_val))))"
   ]
  },
  {
   "cell_type": "code",
   "execution_count": 36,
   "metadata": {
    "scrolled": false
   },
   "outputs": [
    {
     "name": "stdout",
     "output_type": "stream",
     "text": [
      "_________________________________________________________________\n",
      "Layer (type)                 Output Shape              Param #   \n",
      "=================================================================\n",
      "conv2d_5 (Conv2D)            (None, 148, 148, 32)      896       \n",
      "_________________________________________________________________\n",
      "max_pooling2d_5 (MaxPooling2 (None, 74, 74, 32)        0         \n",
      "_________________________________________________________________\n",
      "conv2d_6 (Conv2D)            (None, 72, 72, 64)        18496     \n",
      "_________________________________________________________________\n",
      "max_pooling2d_6 (MaxPooling2 (None, 36, 36, 64)        0         \n",
      "_________________________________________________________________\n",
      "conv2d_7 (Conv2D)            (None, 34, 34, 128)       73856     \n",
      "_________________________________________________________________\n",
      "max_pooling2d_7 (MaxPooling2 (None, 17, 17, 128)       0         \n",
      "_________________________________________________________________\n",
      "conv2d_8 (Conv2D)            (None, 15, 15, 128)       147584    \n",
      "_________________________________________________________________\n",
      "max_pooling2d_8 (MaxPooling2 (None, 7, 7, 128)         0         \n",
      "_________________________________________________________________\n",
      "flatten_2 (Flatten)          (None, 6272)              0         \n",
      "_________________________________________________________________\n",
      "dense_3 (Dense)              (None, 512)               3211776   \n",
      "_________________________________________________________________\n",
      "dense_4 (Dense)              (None, 1)                 513       \n",
      "=================================================================\n",
      "Total params: 3,453,121\n",
      "Trainable params: 3,453,121\n",
      "Non-trainable params: 0\n",
      "_________________________________________________________________\n"
     ]
    }
   ],
   "source": [
    "model = models.Sequential()\n",
    "model.add(layers.Conv2D(32,(3,3), activation='relu', input_shape=(150,150,3)))\n",
    "model.add(layers.MaxPooling2D((2,2)))\n",
    "model.add(layers.Conv2D(64,(3,3), activation='relu'))\n",
    "model.add(layers.MaxPooling2D((2,2)))\n",
    "model.add(layers.Conv2D(128,(3,3), activation='relu'))\n",
    "model.add(layers.MaxPooling2D((2,2)))\n",
    "model.add(layers.Conv2D(128,(3,3), activation='relu'))\n",
    "model.add(layers.MaxPooling2D((2,2)))\n",
    "model.add(layers.Flatten())\n",
    "model.add(layers.Dense(512, activation='relu'))\n",
    "model.add(layers.Dense(1, activation='sigmoid'))\n",
    "model.summary()"
   ]
  },
  {
   "cell_type": "code",
   "execution_count": 38,
   "metadata": {},
   "outputs": [],
   "source": [
    "model.compile(loss='binary_crossentropy',\n",
    "             optimizer=optimizers.RMSprop(lr=1e-4),\n",
    "             metrics=['acc'])"
   ]
  },
  {
   "cell_type": "code",
   "execution_count": 43,
   "metadata": {},
   "outputs": [
    {
     "name": "stdout",
     "output_type": "stream",
     "text": [
      "Found 2000 images belonging to 2 classes.\n",
      "Found 1000 images belonging to 2 classes.\n"
     ]
    }
   ],
   "source": [
    "train_generator = ImageDataGenerator(rescale=1./255).flow_from_directory(root+\"/train\",\n",
    "                                                 target_size=(150,150),\n",
    "                                                 batch_size=20,\n",
    "                                                 class_mode='binary')\n",
    "\n",
    "val_generator = ImageDataGenerator(rescale=1./255).flow_from_directory(root+\"/validation\",\n",
    "                                                 target_size=(150,150),\n",
    "                                                 batch_size=20,\n",
    "                                                 class_mode='binary')"
   ]
  },
  {
   "cell_type": "code",
   "execution_count": 45,
   "metadata": {},
   "outputs": [
    {
     "name": "stdout",
     "output_type": "stream",
     "text": [
      "Epoch 1/30\n",
      "100/100 [==============================] - 65s 645ms/step - loss: 0.6945 - acc: 0.5230 - val_loss: 0.6847 - val_acc: 0.5410\n",
      "Epoch 2/30\n",
      "100/100 [==============================] - 64s 636ms/step - loss: 0.6610 - acc: 0.6160 - val_loss: 0.6676 - val_acc: 0.5800\n",
      "Epoch 3/30\n",
      "100/100 [==============================] - 62s 622ms/step - loss: 0.6352 - acc: 0.6485 - val_loss: 0.6277 - val_acc: 0.6640\n",
      "Epoch 4/30\n",
      "100/100 [==============================] - 62s 622ms/step - loss: 0.5952 - acc: 0.6710 - val_loss: 0.6147 - val_acc: 0.6870\n",
      "Epoch 5/30\n",
      "100/100 [==============================] - 62s 623ms/step - loss: 0.5627 - acc: 0.7120 - val_loss: 0.5873 - val_acc: 0.6890\n",
      "Epoch 6/30\n",
      "100/100 [==============================] - 63s 625ms/step - loss: 0.5216 - acc: 0.7390 - val_loss: 0.5884 - val_acc: 0.7100\n",
      "Epoch 7/30\n",
      "100/100 [==============================] - 63s 628ms/step - loss: 0.4859 - acc: 0.7650 - val_loss: 0.5484 - val_acc: 0.7240\n",
      "Epoch 8/30\n",
      "100/100 [==============================] - 62s 620ms/step - loss: 0.4445 - acc: 0.7865 - val_loss: 0.5712 - val_acc: 0.7110\n",
      "Epoch 9/30\n",
      "100/100 [==============================] - 62s 621ms/step - loss: 0.4126 - acc: 0.8040 - val_loss: 0.5369 - val_acc: 0.7540\n",
      "Epoch 10/30\n",
      "100/100 [==============================] - 62s 621ms/step - loss: 0.3911 - acc: 0.8255 - val_loss: 0.5293 - val_acc: 0.7430\n",
      "Epoch 11/30\n",
      "100/100 [==============================] - 62s 623ms/step - loss: 0.3589 - acc: 0.8405 - val_loss: 0.6440 - val_acc: 0.6950\n",
      "Epoch 12/30\n",
      "100/100 [==============================] - 62s 621ms/step - loss: 0.3341 - acc: 0.8525 - val_loss: 0.5806 - val_acc: 0.7240\n",
      "Epoch 13/30\n",
      "100/100 [==============================] - 62s 621ms/step - loss: 0.3148 - acc: 0.8705 - val_loss: 0.5544 - val_acc: 0.7430\n",
      "Epoch 14/30\n",
      "100/100 [==============================] - 62s 623ms/step - loss: 0.2856 - acc: 0.8815 - val_loss: 0.5611 - val_acc: 0.7550\n",
      "Epoch 15/30\n",
      "100/100 [==============================] - 62s 622ms/step - loss: 0.2586 - acc: 0.8940 - val_loss: 0.5710 - val_acc: 0.7500\n",
      "Epoch 16/30\n",
      "100/100 [==============================] - 62s 624ms/step - loss: 0.2354 - acc: 0.9055 - val_loss: 0.6203 - val_acc: 0.7430\n",
      "Epoch 17/30\n",
      "100/100 [==============================] - 62s 621ms/step - loss: 0.2121 - acc: 0.9135 - val_loss: 0.6218 - val_acc: 0.7420\n",
      "Epoch 18/30\n",
      "100/100 [==============================] - 62s 623ms/step - loss: 0.1891 - acc: 0.9325 - val_loss: 0.5843 - val_acc: 0.7610\n",
      "Epoch 19/30\n",
      "100/100 [==============================] - 62s 623ms/step - loss: 0.1703 - acc: 0.9320 - val_loss: 0.6219 - val_acc: 0.7630\n",
      "Epoch 20/30\n",
      "100/100 [==============================] - 62s 623ms/step - loss: 0.1434 - acc: 0.9475 - val_loss: 0.6259 - val_acc: 0.7550\n",
      "Epoch 21/30\n",
      "100/100 [==============================] - 63s 625ms/step - loss: 0.1271 - acc: 0.9555 - val_loss: 0.8423 - val_acc: 0.7220\n",
      "Epoch 22/30\n",
      "100/100 [==============================] - 63s 626ms/step - loss: 0.1099 - acc: 0.9660 - val_loss: 0.7570 - val_acc: 0.7580\n",
      "Epoch 23/30\n",
      "100/100 [==============================] - 63s 627ms/step - loss: 0.0926 - acc: 0.9700 - val_loss: 0.7389 - val_acc: 0.7450\n",
      "Epoch 24/30\n",
      "100/100 [==============================] - 62s 625ms/step - loss: 0.0831 - acc: 0.9730 - val_loss: 0.7490 - val_acc: 0.7540\n",
      "Epoch 25/30\n",
      "100/100 [==============================] - 62s 623ms/step - loss: 0.0666 - acc: 0.9825 - val_loss: 0.8349 - val_acc: 0.7490\n",
      "Epoch 26/30\n",
      "100/100 [==============================] - 62s 624ms/step - loss: 0.0583 - acc: 0.9815 - val_loss: 1.1232 - val_acc: 0.6950\n",
      "Epoch 27/30\n",
      "100/100 [==============================] - 62s 619ms/step - loss: 0.0503 - acc: 0.9840 - val_loss: 0.9657 - val_acc: 0.7380\n",
      "Epoch 28/30\n",
      "100/100 [==============================] - 62s 622ms/step - loss: 0.0458 - acc: 0.9880 - val_loss: 0.9590 - val_acc: 0.7480\n",
      "Epoch 29/30\n",
      "100/100 [==============================] - 62s 623ms/step - loss: 0.0371 - acc: 0.9900 - val_loss: 0.9487 - val_acc: 0.7490\n",
      "Epoch 30/30\n",
      "100/100 [==============================] - 62s 622ms/step - loss: 0.0388 - acc: 0.9900 - val_loss: 0.9480 - val_acc: 0.7500\n"
     ]
    }
   ],
   "source": [
    "history = model.fit_generator(train_generator,\n",
    "                             steps_per_epoch=100,\n",
    "                             epochs=30,\n",
    "                             validation_data=val_generator,\n",
    "                             validation_steps=50)"
   ]
  },
  {
   "cell_type": "code",
   "execution_count": 48,
   "metadata": {
    "scrolled": false
   },
   "outputs": [
    {
     "data": {
      "image/png": "[encoded data removed]",
      "text/plain": [
       "<Figure size 432x288 with 1 Axes>"
      ]
     },
     "metadata": {
      "needs_background": "light"
     },
     "output_type": "display_data"
    },
    {
     "data": {
      "image/png": "[encoded data removed]",
      "text/plain": [
       "<Figure size 432x288 with 1 Axes>"
      ]
     },
     "metadata": {
      "needs_background": "light"
     },
     "output_type": "display_data"
    }
   ],
   "source": [
    "def compare_plot(history):\n",
    "    acc = history.history['acc']\n",
    "    val_acc = history.history['val_acc']\n",
    "    loss = history.history['loss']\n",
    "    val_loss = history.history['val_loss']\n",
    "    \n",
    "    epochs = range(1, len(acc)+1)\n",
    "    \n",
    "    plt.plot(epochs, acc, 'bo', label='Training acc')\n",
    "    plt.plot(epochs, val_acc, 'r', label=\"Validation acc\")\n",
    "    plt.title('Training and validation accuracy')\n",
    "    plt.legend()\n",
    "    \n",
    "    plt.figure()\n",
    "    \n",
    "    plt.plot(epochs, loss, 'bo', label='Training loss')\n",
    "    plt.plot(epochs, val_loss, 'r', label='Validation loss')\n",
    "    plt.title('Training and validation loss')\n",
    "    plt.legend()\n",
    "    \n",
    "    plt.show()\n",
    "\n",
    "compare_plot(history)"
   ]
  },
  {
   "cell_type": "markdown",
   "metadata": {},
   "source": [
    "# Use Data Augmentation to generate some psudo-picture\n",
    "This is a tricky way to generate 'more' training data when there are not enough data for training."
   ]
  },
  {
   "cell_type": "code",
   "execution_count": null,
   "metadata": {},
   "outputs": [],
   "source": []
  }
 ],
 "metadata": {
  "kernelspec": {
   "display_name": "Python 3",
   "language": "python",
   "name": "python3"
  },
  "language_info": {
   "codemirror_mode": {
    "name": "ipython",
    "version": 3
   },
   "file_extension": ".py",
   "mimetype": "text/x-python",
   "name": "python",
   "nbconvert_exporter": "python",
   "pygments_lexer": "ipython3",
   "version": "3.6.7"
  }
 },
 "nbformat": 4,
 "nbformat_minor": 2
}
