{
 "cells": [
  {
   "cell_type": "markdown",
   "metadata": {},
   "source": [
    "Another kind of question which quite similar to this one is multilabel, multiclass classification, which means one's can be labeled several times."
   ]
  },
  {
   "cell_type": "code",
   "execution_count": 1,
   "metadata": {},
   "outputs": [
    {
     "name": "stderr",
     "output_type": "stream",
     "text": [
      "Using TensorFlow backend.\n"
     ]
    }
   ],
   "source": [
    "from keras.datasets import reuters\n",
    "from keras import layers, models\n",
    "import numpy as np\n",
    "import matplotlib.pyplot as plt"
   ]
  },
  {
   "cell_type": "code",
   "execution_count": 2,
   "metadata": {},
   "outputs": [
    {
     "name": "stdout",
     "output_type": "stream",
     "text": [
      "Downloading data from https://s3.amazonaws.com/text-datasets/reuters.npz\n",
      "2113536/2110848 [==============================] - 37s 18us/step\n"
     ]
    }
   ],
   "source": [
    "(train_data, train_labels), (test_data, test_labels) = reuters.load_data(num_words=10000)"
   ]
  },
  {
   "cell_type": "code",
   "execution_count": 3,
   "metadata": {},
   "outputs": [
    {
     "name": "stdout",
     "output_type": "stream",
     "text": [
      "8982 8982 2246 2246\n"
     ]
    }
   ],
   "source": [
    "print(len(train_data), len(train_labels) , len(test_data), len(test_labels))"
   ]
  },
  {
   "cell_type": "code",
   "execution_count": 13,
   "metadata": {},
   "outputs": [
    {
     "data": {
      "text/plain": [
       "array([ 3,  4,  3, ..., 25,  3, 25])"
      ]
     },
     "execution_count": 13,
     "metadata": {},
     "output_type": "execute_result"
    }
   ],
   "source": [
    "train_labels"
   ]
  },
  {
   "cell_type": "code",
   "execution_count": 6,
   "metadata": {},
   "outputs": [],
   "source": [
    "# vectorize the train data\n",
    "def vectorize_sequences(sequences, dimension=10000):\n",
    "    res = np.zeros((len(sequences), dimension))\n",
    "    for i, sequence in enumerate(sequences):\n",
    "        res[i, sequence] = 1.\n",
    "    return res\n",
    "\n",
    "x_train = vectorize_sequences(train_data)\n",
    "x_test = vectorize_sequences(test_data)"
   ]
  },
  {
   "cell_type": "code",
   "execution_count": 11,
   "metadata": {},
   "outputs": [
    {
     "name": "stdout",
     "output_type": "stream",
     "text": [
      "(8982, 46) (2246, 46)\n"
     ]
    }
   ],
   "source": [
    "# use one-hot coding style to encode the trains\n",
    "\n",
    "# we can define our own funciton\n",
    "def to_one_hot(labels, dimension=46):\n",
    "    res = np.zeros((len(labels), dimension))\n",
    "    for i, label in enumerate(labels):\n",
    "        res[i, label] = 1.\n",
    "    return res\n",
    "\n",
    "one_hot_train_labels = to_one_hot(train_labels)\n",
    "one_hot_test_labels = to_one_hot(test_labels)\n",
    "print(one_hot_train_labels.shape, one_hot_test_labels.shape)"
   ]
  },
  {
   "cell_type": "code",
   "execution_count": 12,
   "metadata": {},
   "outputs": [
    {
     "name": "stdout",
     "output_type": "stream",
     "text": [
      "(8982, 46) (2246, 46)\n"
     ]
    }
   ],
   "source": [
    "# or we can use the build in function in keras\n",
    "from keras.utils.np_utils import to_categorical\n",
    "\n",
    "one_hot_train_labels = to_categorical(train_labels)\n",
    "one_hot_test_labels = to_categorical(test_labels)\n",
    "print(one_hot_train_labels.shape, one_hot_test_labels.shape)"
   ]
  },
  {
   "cell_type": "markdown",
   "metadata": {},
   "source": [
    "one-hot is a group of bits among which the legal combinations of values are only those with a single high '1' bit and all the others low '0'. A similar implementation in which all bits are '1' except one '0' is sometimes called one-cold. "
   ]
  },
  {
   "cell_type": "code",
   "execution_count": 14,
   "metadata": {},
   "outputs": [],
   "source": [
    "model = models.Sequential()\n",
    "model.add(layers.Dense(64, activation='relu', input_shape=(10000,)))\n",
    "model.add(layers.Dense(64, activation='relu'))\n",
    "\n",
    "# use softmax to make the output become a probability (which sum is 1) among the 46 nodes\n",
    "# softmax function will make the data more distinguishalbe to each other\n",
    "model.add(layers.Dense(46, activation='softmax'))"
   ]
  },
  {
   "cell_type": "code",
   "execution_count": 15,
   "metadata": {},
   "outputs": [],
   "source": [
    "# instead of using binary_crossentropy since we are now processing a more than two categories dataset\n",
    "model.compile(optimizer='rmsprop',\n",
    "             loss='categorical_crossentropy',\n",
    "             metrics=['accuracy'])"
   ]
  },
  {
   "cell_type": "code",
   "execution_count": 16,
   "metadata": {},
   "outputs": [],
   "source": [
    "# split out the validation dataset\n",
    "x_val = x_train[:1000]\n",
    "partial_x_train = x_train[1000:]\n",
    "\n",
    "y_val = one_hot_train_labels[:1000]\n",
    "partial_y_train = one_hot_train_labels[1000:]"
   ]
  },
  {
   "cell_type": "code",
   "execution_count": 18,
   "metadata": {},
   "outputs": [
    {
     "name": "stdout",
     "output_type": "stream",
     "text": [
      "Train on 7982 samples, validate on 1000 samples\n",
      "Epoch 1/20\n",
      "7982/7982 [==============================] - 2s 255us/step - loss: 1.8267 - acc: 0.6032 - val_loss: 1.2677 - val_acc: 0.7220\n",
      "Epoch 2/20\n",
      "7982/7982 [==============================] - 1s 151us/step - loss: 0.9985 - acc: 0.7804 - val_loss: 1.0260 - val_acc: 0.7840\n",
      "Epoch 3/20\n",
      "7982/7982 [==============================] - 1s 147us/step - loss: 0.6752 - acc: 0.8498 - val_loss: 0.9526 - val_acc: 0.7980\n",
      "Epoch 4/20\n",
      "7982/7982 [==============================] - 1s 148us/step - loss: 0.4657 - acc: 0.8973 - val_loss: 0.8771 - val_acc: 0.8170\n",
      "Epoch 5/20\n",
      "7982/7982 [==============================] - 1s 155us/step - loss: 0.3305 - acc: 0.9255 - val_loss: 0.8670 - val_acc: 0.8230\n",
      "Epoch 6/20\n",
      "7982/7982 [==============================] - 1s 156us/step - loss: 0.2571 - acc: 0.9402 - val_loss: 0.9520 - val_acc: 0.8080\n",
      "Epoch 7/20\n",
      "7982/7982 [==============================] - 1s 163us/step - loss: 0.2096 - acc: 0.9486 - val_loss: 0.9460 - val_acc: 0.8260\n",
      "Epoch 8/20\n",
      "7982/7982 [==============================] - 1s 157us/step - loss: 0.1820 - acc: 0.9526 - val_loss: 1.1775 - val_acc: 0.7640\n",
      "Epoch 9/20\n",
      "7982/7982 [==============================] - 1s 152us/step - loss: 0.1597 - acc: 0.9541 - val_loss: 1.0050 - val_acc: 0.8120\n",
      "Epoch 10/20\n",
      "7982/7982 [==============================] - 1s 159us/step - loss: 0.1475 - acc: 0.9557 - val_loss: 1.0875 - val_acc: 0.8030\n",
      "Epoch 11/20\n",
      "7982/7982 [==============================] - 1s 154us/step - loss: 0.1418 - acc: 0.9560 - val_loss: 1.0640 - val_acc: 0.8170\n",
      "Epoch 12/20\n",
      "7982/7982 [==============================] - 1s 151us/step - loss: 0.1324 - acc: 0.9555 - val_loss: 1.0454 - val_acc: 0.8120\n",
      "Epoch 13/20\n",
      "7982/7982 [==============================] - 1s 150us/step - loss: 0.1298 - acc: 0.9564 - val_loss: 1.1026 - val_acc: 0.8060\n",
      "Epoch 14/20\n",
      "7982/7982 [==============================] - 1s 155us/step - loss: 0.1238 - acc: 0.9558 - val_loss: 1.0877 - val_acc: 0.8050\n",
      "Epoch 15/20\n",
      "7982/7982 [==============================] - 1s 160us/step - loss: 0.1142 - acc: 0.9583 - val_loss: 1.1255 - val_acc: 0.8110\n",
      "Epoch 16/20\n",
      "7982/7982 [==============================] - 1s 166us/step - loss: 0.1158 - acc: 0.9575 - val_loss: 1.2048 - val_acc: 0.8020\n",
      "Epoch 17/20\n",
      "7982/7982 [==============================] - 1s 157us/step - loss: 0.1128 - acc: 0.9587 - val_loss: 1.1754 - val_acc: 0.7970\n",
      "Epoch 18/20\n",
      "7982/7982 [==============================] - 1s 154us/step - loss: 0.1106 - acc: 0.9569 - val_loss: 1.1878 - val_acc: 0.8040\n",
      "Epoch 19/20\n",
      "7982/7982 [==============================] - 1s 148us/step - loss: 0.1097 - acc: 0.9580 - val_loss: 1.2475 - val_acc: 0.8020\n",
      "Epoch 20/20\n",
      "7982/7982 [==============================] - 1s 150us/step - loss: 0.1020 - acc: 0.9598 - val_loss: 1.1869 - val_acc: 0.7980\n"
     ]
    }
   ],
   "source": [
    "history = model.fit(partial_x_train,\n",
    "                   partial_y_train,\n",
    "                   epochs=20,\n",
    "                   batch_size=128,\n",
    "                   validation_data=(x_val,y_val))"
   ]
  },
  {
   "cell_type": "code",
   "execution_count": 20,
   "metadata": {},
   "outputs": [
    {
     "data": {
      "image/png": "[encoded data removed]",
      "text/plain": [
       "<Figure size 432x288 with 1 Axes>"
      ]
     },
     "metadata": {
      "needs_background": "light"
     },
     "output_type": "display_data"
    }
   ],
   "source": [
    "loss = history.history['loss']\n",
    "val_loss = history.history['val_loss']\n",
    "\n",
    "epochs = range(1, len(loss)+1)\n",
    "plt.plot(epochs, loss, 'bo', label='Trainning loss')\n",
    "plt.plot(epochs, val_loss, 'r', label='Validation loss')\n",
    "plt.title(\"Trainning and Validation loss\")\n",
    "plt.xlabel('Epochs')\n",
    "plt.ylabel('Loss')\n",
    "plt.legend()\n",
    "\n",
    "plt.show()"
   ]
  },
  {
   "cell_type": "code",
   "execution_count": 22,
   "metadata": {},
   "outputs": [
    {
     "data": {
      "image/png": "[encoded data removed]",
      "text/plain": [
       "<Figure size 432x288 with 1 Axes>"
      ]
     },
     "metadata": {
      "needs_background": "light"
     },
     "output_type": "display_data"
    }
   ],
   "source": [
    "acc = history.history['acc']\n",
    "val_acc = history.history['val_acc']\n",
    "\n",
    "plt.clf()\n",
    "plt.plot(epochs, acc, 'bo', label='Trainning accuracy')\n",
    "plt.plot(epochs, val_acc, 'r', label='Validation accuracy')\n",
    "plt.title('Trainning and validation loss')\n",
    "plt.xlabel('Epochs')\n",
    "plt.ylabel('Loss')\n",
    "plt.legend()\n",
    "plt.show()"
   ]
  },
  {
   "cell_type": "markdown",
   "metadata": {},
   "source": [
    "Overfitting around 7 epochs"
   ]
  },
  {
   "cell_type": "code",
   "execution_count": 25,
   "metadata": {},
   "outputs": [
    {
     "name": "stdout",
     "output_type": "stream",
     "text": [
      "Train on 7982 samples, validate on 1000 samples\n",
      "Epoch 1/7\n",
      "7982/7982 [==============================] - 2s 250us/step - loss: 1.7978 - acc: 0.6240 - val_loss: 1.2268 - val_acc: 0.7250\n",
      "Epoch 2/7\n",
      "7982/7982 [==============================] - 1s 153us/step - loss: 0.9515 - acc: 0.7894 - val_loss: 0.9921 - val_acc: 0.7950\n",
      "Epoch 3/7\n",
      "7982/7982 [==============================] - 1s 155us/step - loss: 0.6403 - acc: 0.8584 - val_loss: 0.9544 - val_acc: 0.8030\n",
      "Epoch 4/7\n",
      "7982/7982 [==============================] - 1s 149us/step - loss: 0.4434 - acc: 0.9044 - val_loss: 0.9226 - val_acc: 0.8000\n",
      "Epoch 5/7\n",
      "7982/7982 [==============================] - 1s 149us/step - loss: 0.3203 - acc: 0.9321 - val_loss: 0.8671 - val_acc: 0.8320\n",
      "Epoch 6/7\n",
      "7982/7982 [==============================] - 1s 153us/step - loss: 0.2475 - acc: 0.9430 - val_loss: 0.9242 - val_acc: 0.8120\n",
      "Epoch 7/7\n",
      "7982/7982 [==============================] - 1s 148us/step - loss: 0.2036 - acc: 0.9486 - val_loss: 0.9051 - val_acc: 0.8230\n",
      "2246/2246 [==============================] - 0s 90us/step\n"
     ]
    },
    {
     "data": {
      "text/plain": [
       "[1.0684585051141673, 0.7978628673196795]"
      ]
     },
     "execution_count": 25,
     "metadata": {},
     "output_type": "execute_result"
    }
   ],
   "source": [
    "model = models.Sequential()\n",
    "\n",
    "model.add(layers.Dense(64, activation='relu', input_shape=(10000,)))\n",
    "model.add(layers.Dense(64,activation='relu'))\n",
    "model.add(layers.Dense(46,activation='softmax'))\n",
    "\n",
    "model.compile(optimizer='rmsprop',\n",
    "             loss='categorical_crossentropy',\n",
    "             metrics=['accuracy'])\n",
    "model.fit(partial_x_train,\n",
    "         partial_y_train,\n",
    "         epochs=7,\n",
    "         batch_size=128,\n",
    "         validation_data=(x_val, y_val))\n",
    "results = model.evaluate(x_test, one_hot_test_labels)\n",
    "results"
   ]
  },
  {
   "cell_type": "code",
   "execution_count": 27,
   "metadata": {},
   "outputs": [
    {
     "name": "stdout",
     "output_type": "stream",
     "text": [
      "Train on 7982 samples, validate on 1000 samples\n",
      "Epoch 1/3\n",
      "7982/7982 [==============================] - 18s 2ms/step - loss: 1.1913 - acc: 0.7344 - val_loss: 0.9391 - val_acc: 0.7710\n",
      "Epoch 2/3\n",
      "7982/7982 [==============================] - 17s 2ms/step - loss: 0.5207 - acc: 0.8836 - val_loss: 0.8934 - val_acc: 0.8100\n",
      "Epoch 3/3\n",
      "7982/7982 [==============================] - 17s 2ms/step - loss: 0.3096 - acc: 0.9317 - val_loss: 1.0089 - val_acc: 0.8170\n",
      "2246/2246 [==============================] - 0s 137us/step\n"
     ]
    },
    {
     "data": {
      "text/plain": [
       "[1.1653445051487068, 0.7947462154411357]"
      ]
     },
     "execution_count": 27,
     "metadata": {},
     "output_type": "execute_result"
    }
   ],
   "source": [
    "# my own improvement test\n",
    "model = models.Sequential()\n",
    "\n",
    "model.add(layers.Dense(500, activation='relu', input_shape=(10000,)))\n",
    "model.add(layers.Dense(500,activation='relu'))\n",
    "model.add(layers.Dense(46,activation='softmax'))\n",
    "\n",
    "model.compile(optimizer='rmsprop',\n",
    "             loss='categorical_crossentropy',\n",
    "             metrics=['accuracy'])\n",
    "model.fit(partial_x_train,\n",
    "         partial_y_train,\n",
    "         epochs=3,\n",
    "         batch_size=32,\n",
    "         validation_data=(x_val, y_val))\n",
    "results = model.evaluate(x_test, one_hot_test_labels)\n",
    "results"
   ]
  },
  {
   "cell_type": "markdown",
   "metadata": {},
   "source": [
    "another way to process the labels is turn them to integar tensor\n",
    "\n",
    "```python\n",
    "y_train = np.array(train_labels)\n",
    "y_test = np.array(test_labels)\n",
    "```\n",
    "\n",
    "And we need some ajustment to fit this change in labels. The loss function becomes **sparse_catagorical_crossentropy** ,which is mathematically identical to categorical_crossentropy, but this time it take int tensor\n",
    "\n",
    "```python\n",
    "model.compile(optimizer='rmsprop',\n",
    "             loss='sparse_categorical_crossentropy',\n",
    "             metrics=['accuracy'])\n",
    "```"
   ]
  },
  {
   "cell_type": "markdown",
   "metadata": {},
   "source": [
    "## Summary\n",
    "- N class classfication, the output layer should be N Dense layer, using softmax as activation function.\n",
    "- cross entropy always a good choice for this kind of question\n",
    "- there are two ways to deal with the labels\n",
    "    - use one-hot encode, and use *categorical_crossentropy* as loss funciton\n",
    "    - make them as int tensor, and use *sparse_categorical_crossentropy* as loss funciton\n",
    "- avoid using extremely samll hidden layer"
   ]
  },
  {
   "cell_type": "code",
   "execution_count": null,
   "metadata": {},
   "outputs": [],
   "source": []
  }
 ],
 "metadata": {
  "kernelspec": {
   "display_name": "Python 3",
   "language": "python",
   "name": "python3"
  },
  "language_info": {
   "codemirror_mode": {
    "name": "ipython",
    "version": 3
   },
   "file_extension": ".py",
   "mimetype": "text/x-python",
   "name": "python",
   "nbconvert_exporter": "python",
   "pygments_lexer": "ipython3",
   "version": "3.6.7"
  }
 },
 "nbformat": 4,
 "nbformat_minor": 2
}
