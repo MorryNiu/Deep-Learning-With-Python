{
 "cells": [
  {
   "cell_type": "code",
   "execution_count": 1,
   "metadata": {},
   "outputs": [
    {
     "name": "stderr",
     "output_type": "stream",
     "text": [
      "Using TensorFlow backend.\n"
     ]
    }
   ],
   "source": [
    "from keras.datasets import imdb\n",
    "import numpy as np\n",
    "import matplotlib.pyplot as plt\n",
    "\n",
    "from keras import layers, models"
   ]
  },
  {
   "cell_type": "code",
   "execution_count": 2,
   "metadata": {},
   "outputs": [],
   "source": [
    "(train_data, train_labels), (test_data, test_labels) = imdb.load_data(num_words=10000)"
   ]
  },
  {
   "cell_type": "code",
   "execution_count": 3,
   "metadata": {},
   "outputs": [],
   "source": [
    "# decode the comment sequence\n",
    "word_index = imdb.get_word_index()\n",
    "reverse_word_index = dict([(value, key) for (key, value) in word_index.items()])\n",
    "decoded_review = ' '.join([reverse_word_index.get(i-3, '?') for i in train_data[0]])"
   ]
  },
  {
   "cell_type": "code",
   "execution_count": 4,
   "metadata": {},
   "outputs": [],
   "source": [
    "def vectorize_sequences(sequences, dimension=10000):\n",
    "    res = np.zeros((len(sequences), dimension))\n",
    "    for i, sequence in enumerate(sequences):\n",
    "        # this following line will make the position which shows in sequence to 1 in res\n",
    "        res[i, sequence] = 1.\n",
    "    return res"
   ]
  },
  {
   "cell_type": "code",
   "execution_count": 5,
   "metadata": {},
   "outputs": [],
   "source": [
    "# vectorize the sequence\n",
    "x_train = vectorize_sequences(train_data)\n",
    "x_test = vectorize_sequences(test_data)"
   ]
  },
  {
   "cell_type": "code",
   "execution_count": 6,
   "metadata": {},
   "outputs": [],
   "source": [
    "# vectorize and change the data type of train data\n",
    "y_train = np.asarray(train_labels).astype('float32')\n",
    "y_test = np.asarray(test_labels).astype('float32')"
   ]
  },
  {
   "cell_type": "code",
   "execution_count": 7,
   "metadata": {},
   "outputs": [
    {
     "data": {
      "text/plain": [
       "(25000,)"
      ]
     },
     "execution_count": 7,
     "metadata": {},
     "output_type": "execute_result"
    }
   ],
   "source": [
    "y_train.shape"
   ]
  },
  {
   "cell_type": "code",
   "execution_count": 8,
   "metadata": {},
   "outputs": [],
   "source": [
    "model = models.Sequential()\n",
    "model.add(layers.Dense(16, activation='relu', input_shape=(10000,)))\n",
    "model.add(layers.Dense(16, activation='relu'))\n",
    "model.add(layers.Dense(1,activation='sigmoid'))"
   ]
  },
  {
   "cell_type": "markdown",
   "metadata": {},
   "source": [
    "### what is cross entropy and why we pick it as loss funciton\n",
    "Cross entropy is a reasonable way for measuring how close or how far is our prediction probability to the target probability. More specific visit https://rdipietro.github.io/friendly-intro-to-cross-entropy-loss/"
   ]
  },
  {
   "cell_type": "code",
   "execution_count": 9,
   "metadata": {},
   "outputs": [],
   "source": [
    "model.compile(optimizer='rmsprop',\n",
    "              loss='binary_crossentropy',\n",
    "              metrics=['accuracy']\n",
    "             )"
   ]
  },
  {
   "cell_type": "code",
   "execution_count": 10,
   "metadata": {},
   "outputs": [
    {
     "name": "stdout",
     "output_type": "stream",
     "text": [
      "Train on 25000 samples, validate on 25000 samples\n",
      "Epoch 1/20\n",
      "25000/25000 [==============================] - 7s 266us/step - loss: 0.4496 - acc: 0.8165 - val_loss: 0.3341 - val_acc: 0.8793\n",
      "Epoch 2/20\n",
      "25000/25000 [==============================] - 3s 100us/step - loss: 0.2552 - acc: 0.9094 - val_loss: 0.3168 - val_acc: 0.8708\n",
      "Epoch 3/20\n",
      "25000/25000 [==============================] - 2s 97us/step - loss: 0.1969 - acc: 0.9300 - val_loss: 0.2821 - val_acc: 0.8882\n",
      "Epoch 4/20\n",
      "25000/25000 [==============================] - 2s 93us/step - loss: 0.1669 - acc: 0.9408 - val_loss: 0.2946 - val_acc: 0.8834\n",
      "Epoch 5/20\n",
      "25000/25000 [==============================] - 2s 95us/step - loss: 0.1432 - acc: 0.9487 - val_loss: 0.3218 - val_acc: 0.8786\n",
      "Epoch 6/20\n",
      "25000/25000 [==============================] - 3s 114us/step - loss: 0.1267 - acc: 0.9560 - val_loss: 0.3479 - val_acc: 0.8729\n",
      "Epoch 7/20\n",
      "25000/25000 [==============================] - 3s 104us/step - loss: 0.1128 - acc: 0.9608 - val_loss: 0.3613 - val_acc: 0.8714\n",
      "Epoch 8/20\n",
      "25000/25000 [==============================] - 3s 113us/step - loss: 0.1010 - acc: 0.9654 - val_loss: 0.4093 - val_acc: 0.8635\n",
      "Epoch 9/20\n",
      "25000/25000 [==============================] - 3s 104us/step - loss: 0.0904 - acc: 0.9686 - val_loss: 0.4176 - val_acc: 0.8647\n",
      "Epoch 10/20\n",
      "25000/25000 [==============================] - 3s 104us/step - loss: 0.0811 - acc: 0.9723 - val_loss: 0.4478 - val_acc: 0.8621\n",
      "Epoch 11/20\n",
      "25000/25000 [==============================] - 3s 131us/step - loss: 0.0739 - acc: 0.9753 - val_loss: 0.4742 - val_acc: 0.8609\n",
      "Epoch 12/20\n",
      "25000/25000 [==============================] - 2s 96us/step - loss: 0.0641 - acc: 0.9792 - val_loss: 0.5280 - val_acc: 0.8578\n",
      "Epoch 13/20\n",
      "25000/25000 [==============================] - 2s 97us/step - loss: 0.0612 - acc: 0.9794 - val_loss: 0.5291 - val_acc: 0.8588\n",
      "Epoch 14/20\n",
      "25000/25000 [==============================] - 3s 110us/step - loss: 0.0500 - acc: 0.9845 - val_loss: 0.6209 - val_acc: 0.8469\n",
      "Epoch 15/20\n",
      "25000/25000 [==============================] - 2s 93us/step - loss: 0.0468 - acc: 0.9850 - val_loss: 0.6042 - val_acc: 0.8530\n",
      "Epoch 16/20\n",
      "25000/25000 [==============================] - 2s 93us/step - loss: 0.0399 - acc: 0.9882 - val_loss: 0.6356 - val_acc: 0.8523\n",
      "Epoch 17/20\n",
      "25000/25000 [==============================] - 2s 92us/step - loss: 0.0379 - acc: 0.9888 - val_loss: 0.6737 - val_acc: 0.8513\n",
      "Epoch 18/20\n",
      "25000/25000 [==============================] - 2s 94us/step - loss: 0.0298 - acc: 0.9918 - val_loss: 0.7099 - val_acc: 0.8505\n",
      "Epoch 19/20\n",
      "25000/25000 [==============================] - 2s 93us/step - loss: 0.0273 - acc: 0.9922 - val_loss: 0.7549 - val_acc: 0.8468\n",
      "Epoch 20/20\n",
      "25000/25000 [==============================] - 2s 94us/step - loss: 0.0246 - acc: 0.9933 - val_loss: 0.7818 - val_acc: 0.8481\n"
     ]
    }
   ],
   "source": [
    "history = model.fit(x_train, y_train, epochs=20, batch_size=512, validation_data=(x_test, y_test))"
   ]
  },
  {
   "cell_type": "code",
   "execution_count": 11,
   "metadata": {},
   "outputs": [],
   "source": [
    "def plot_loss(epochs, loss_values, val_loss_values):\n",
    "    plt.plot(epochs, loss_values, 'bo', label='Training loss')\n",
    "    plt.plot(epochs, val_loss_values, 'r', label='Validation loss')\n",
    "    plt.title('Training and validation loss')\n",
    "    plt.xlabel('Epochs')\n",
    "    plt.ylabel('Loss')\n",
    "    plt.legend()\n",
    "    plt.show()"
   ]
  },
  {
   "cell_type": "code",
   "execution_count": 12,
   "metadata": {
    "scrolled": true
   },
   "outputs": [
    {
     "data": {
      "image/png": "[encoded data removed]",
      "text/plain": [
       "<Figure size 432x288 with 1 Axes>"
      ]
     },
     "metadata": {
      "needs_background": "light"
     },
     "output_type": "display_data"
    }
   ],
   "source": [
    "# these bunch of code may crush on OSX mojave, so I put the plot logic in a function\n",
    "history_dict = history.history\n",
    "loss_values = history_dict['loss']\n",
    "val_loss_values = history_dict['val_loss']\n",
    "epochs = range(1,len(loss_values)+1)\n",
    "\n",
    "plot_loss(epochs, loss_values, val_loss_values)"
   ]
  },
  {
   "cell_type": "markdown",
   "metadata": {},
   "source": [
    "From this graph we can say that\n",
    "- As the epochs growth, the loss function decline significantly on training data at the start, but slow down after aproximately epochs 3.\n",
    "- seems like there is a honey point at epochs 3.\n",
    "- As the trainning times increase, the loss increase in validation data, overfit occur."
   ]
  },
  {
   "cell_type": "code",
   "execution_count": 13,
   "metadata": {},
   "outputs": [
    {
     "data": {
      "image/png": "[encoded data removed]",
      "text/plain": [
       "<Figure size 432x288 with 1 Axes>"
      ]
     },
     "metadata": {
      "needs_background": "light"
     },
     "output_type": "display_data"
    }
   ],
   "source": [
    "# accuracy plot, which shows that overfitting occur, the best strategy to solve this is reduce the epochs\n",
    "acc = history_dict['acc']\n",
    "val_acc = history_dict['val_acc']\n",
    "\n",
    "plt.clf()\n",
    "plt.plot(epochs, acc, 'bo', label='Training acc')\n",
    "plt.plot(epochs, val_acc, 'r', label='Validation acc')\n",
    "plt.xlabel('Epochs')\n",
    "plt.ylabel('Accuracy')\n",
    "plt.legend()\n",
    "\n",
    "plt.show()"
   ]
  },
  {
   "cell_type": "markdown",
   "metadata": {},
   "source": [
    "The accuracy graph prove our guess which overfit occur."
   ]
  },
  {
   "cell_type": "code",
   "execution_count": 14,
   "metadata": {},
   "outputs": [
    {
     "name": "stdout",
     "output_type": "stream",
     "text": [
      "Epoch 1/4\n",
      "25000/25000 [==============================] - 2s 81us/step - loss: 0.4453 - acc: 0.8222\n",
      "Epoch 2/4\n",
      "25000/25000 [==============================] - 1s 53us/step - loss: 0.2567 - acc: 0.9119\n",
      "Epoch 3/4\n",
      "25000/25000 [==============================] - 1s 54us/step - loss: 0.1991 - acc: 0.9306\n",
      "Epoch 4/4\n",
      "25000/25000 [==============================] - 1s 54us/step - loss: 0.1676 - acc: 0.9416\n",
      "25000/25000 [==============================] - 1s 51us/step\n"
     ]
    },
    {
     "data": {
      "text/plain": [
       "[0.30630230254650115, 0.87904]"
      ]
     },
     "execution_count": 14,
     "metadata": {},
     "output_type": "execute_result"
    }
   ],
   "source": [
    "# retrain another model on the same dataset\n",
    "model = models.Sequential()\n",
    "# the first hidden layer\n",
    "model.add(layers.Dense(16, activation='relu', input_shape=(10000,)))\n",
    "# the second hidden layer\n",
    "model.add(layers.Dense(16, activation='relu'))\n",
    "# output layer\n",
    "model.add(layers.Dense(1,activation='sigmoid'))\n",
    "\n",
    "model.compile(optimizer='rmsprop',\n",
    "             loss='binary_crossentropy',\n",
    "             metrics=['accuracy'])\n",
    "\n",
    "model.fit(x_train, y_train, epochs=4, batch_size=512)\n",
    "results = model.evaluate(x_test, y_test)\n",
    "results"
   ]
  },
  {
   "cell_type": "code",
   "execution_count": 15,
   "metadata": {},
   "outputs": [
    {
     "data": {
      "text/plain": [
       "array([[0.16138372],\n",
       "       [0.99839896],\n",
       "       [0.75667596],\n",
       "       ...,\n",
       "       [0.13069832],\n",
       "       [0.04858979],\n",
       "       [0.45809543]], dtype=float32)"
      ]
     },
     "execution_count": 15,
     "metadata": {},
     "output_type": "execute_result"
    }
   ],
   "source": [
    "model.predict(x_test)"
   ]
  },
  {
   "cell_type": "code",
   "execution_count": 16,
   "metadata": {},
   "outputs": [
    {
     "name": "stdout",
     "output_type": "stream",
     "text": [
      "Epoch 1/4\n",
      "25000/25000 [==============================] - 18s 715us/step - loss: 0.1171 - acc: 0.8431\n",
      "Epoch 2/4\n",
      "25000/25000 [==============================] - 18s 714us/step - loss: 0.0644 - acc: 0.9152\n",
      "Epoch 3/4\n",
      "25000/25000 [==============================] - 18s 719us/step - loss: 0.0512 - acc: 0.9344\n",
      "Epoch 4/4\n",
      "25000/25000 [==============================] - 17s 695us/step - loss: 0.0428 - acc: 0.9460\n",
      "25000/25000 [==============================] - 4s 162us/step\n"
     ]
    },
    {
     "data": {
      "text/plain": [
       "[0.10157289675474167, 0.86708]"
      ]
     },
     "execution_count": 16,
     "metadata": {},
     "output_type": "execute_result"
    }
   ],
   "source": [
    "# improvement test about about model\n",
    "model = models.Sequential()\n",
    "# the first hidden layer\n",
    "model.add(layers.Dense(500, activation='tanh', input_shape=(10000,)))\n",
    "# the second hidden layer\n",
    "model.add(layers.Dense(500, activation='tanh'))\n",
    "# output layer\n",
    "model.add(layers.Dense(1,activation='sigmoid'))\n",
    "\n",
    "model.compile(optimizer='rmsprop',\n",
    "             loss='mse',\n",
    "             metrics=['accuracy'])\n",
    "\n",
    "model.fit(x_train, y_train, epochs=4, batch_size=128)\n",
    "results = model.evaluate(x_test, y_test)\n",
    "results"
   ]
  },
  {
   "cell_type": "markdown",
   "metadata": {},
   "source": [
    "Seems like the accuracy falls back\n",
    "\n",
    "#### things I tried\n",
    "- use mse as loss function\n",
    "- use tanh as activation function\n",
    "- use more hidden unit"
   ]
  },
  {
   "cell_type": "markdown",
   "metadata": {},
   "source": [
    "## what did I learn from this chapter?\n",
    "\n",
    "- Most of the time, we need to process the raw data, for example tranform them into proper tensor, in order to fit in NN. The word series can coded in binary code (1 for appear, 0 for not), but there are some other coding style.\n",
    "- Stack of Dense layers which using relu as activation function are frequently used to solve lots of classification problems.\n",
    "- For binary classification problem, the output layer should have only one node(unless softmax is used), represent the probability of one of the occurence. For the above example, it represent the probability of positive comment.\n",
    "- For these kind of question, binary_crossentropy is a good loss function.\n",
    "- rmsprop optimizer always good (why?)\n",
    "- As the model perform well on the trainning, the model may finally overfit. it will consequently perform worse on new data. Beware of how the model perform on new data."
   ]
  },
  {
   "cell_type": "code",
   "execution_count": null,
   "metadata": {},
   "outputs": [],
   "source": []
  }
 ],
 "metadata": {
  "kernelspec": {
   "display_name": "Python 3",
   "language": "python",
   "name": "python3"
  },
  "language_info": {
   "codemirror_mode": {
    "name": "ipython",
    "version": 3
   },
   "file_extension": ".py",
   "mimetype": "text/x-python",
   "name": "python",
   "nbconvert_exporter": "python",
   "pygments_lexer": "ipython3",
   "version": "3.6.7"
  }
 },
 "nbformat": 4,
 "nbformat_minor": 2
}
